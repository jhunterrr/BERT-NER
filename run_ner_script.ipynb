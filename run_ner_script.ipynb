{
  "nbformat": 4,
  "nbformat_minor": 0,
  "metadata": {
    "colab": {
      "name": "run_ner_script.ipynb",
      "provenance": [],
      "collapsed_sections": [],
      "mount_file_id": "1NAlihBLoFAwzNVrZP2AOitvRHZ_VI-7P",
      "authorship_tag": "ABX9TyOD+vBjE9ViJ6z8rn84r4Lh"
    },
    "kernelspec": {
      "name": "python3",
      "display_name": "Python 3"
    },
    "language_info": {
      "name": "python"
    },
    "accelerator": "GPU"
  },
  "cells": [
    {
      "cell_type": "markdown",
      "source": [
        "Run Script for ZSL NER Project"
      ],
      "metadata": {
        "id": "1mKPWZV2a-tz"
      }
    },
    {
      "cell_type": "markdown",
      "source": [
        "Clone Repo"
      ],
      "metadata": {
        "id": "Gf-9pqgmIvul"
      }
    },
    {
      "cell_type": "code",
      "source": [
        "!rm -rf BERT-NER\n",
        "!git clone https://github.com/jhunterrr/BERT-NER.git"
      ],
      "metadata": {
        "id": "Piq9ZIRIIvR0"
      },
      "execution_count": null,
      "outputs": []
    },
    {
      "cell_type": "markdown",
      "source": [
        "Install requirements"
      ],
      "metadata": {
        "id": "7D-t_XeqcxjL"
      }
    },
    {
      "cell_type": "code",
      "source": [
        "!pip install -r BERT-NER/requirements.txt"
      ],
      "metadata": {
        "id": "guh8SzwwcwsO"
      },
      "execution_count": null,
      "outputs": []
    },
    {
      "cell_type": "markdown",
      "source": [
        "Run Script"
      ],
      "metadata": {
        "id": "fSFO4QJnc6c_"
      }
    },
    {
      "cell_type": "code",
      "source": [
        "!python BERT-NER/run_ner.py --data_dir=BERT-NER/data/ --bert_model=bert-base-cased --task_name=ner --output_dir=out_base --max_seq_length=128 --do_train --num_train_epochs 5 --do_eval --warmup_proportion=0.1"
      ],
      "metadata": {
        "id": "OY72x16PbDAk"
      },
      "execution_count": null,
      "outputs": []
    }
  ]
}