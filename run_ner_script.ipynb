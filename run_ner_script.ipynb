{
 "cells": [
  {
   "cell_type": "markdown",
   "metadata": {
    "id": "1mKPWZV2a-tz"
   },
   "source": [
    "Run Script for ZSL NER Project"
   ]
  },
  {
   "cell_type": "markdown",
   "metadata": {
    "id": "7D-t_XeqcxjL"
   },
   "source": [
    "Install requirements"
   ]
  },
  {
   "cell_type": "code",
   "execution_count": 2,
   "metadata": {
    "colab": {
     "base_uri": "https://localhost:8080/"
    },
    "executionInfo": {
     "elapsed": 15584,
     "status": "ok",
     "timestamp": 1642511645971,
     "user": {
      "displayName": "Jamie Hunter",
      "photoUrl": "https://lh3.googleusercontent.com/a-/AOh14GhtWm-KRmoAJA-X2SOkUTbA5_9szh13Rb2TETcg8A=s64",
      "userId": "16124883934682782261"
     },
     "user_tz": 0
    },
    "id": "guh8SzwwcwsO",
    "outputId": "9d09640f-0d6b-4313-bb39-79550c490805"
   },
   "outputs": [
    {
     "name": "stdout",
     "output_type": "stream",
     "text": [
      "Requirement already satisfied: pytorch-transformers==1.2.0 in c:\\users\\zjamz\\miniconda3\\lib\\site-packages (from -r requirements.txt (line 1)) (1.2.0)\n",
      "Requirement already satisfied: torch==1.10.0 in c:\\users\\zjamz\\miniconda3\\lib\\site-packages (from -r requirements.txt (line 2)) (1.10.0)\n",
      "Requirement already satisfied: seqeval==0.0.5 in c:\\users\\zjamz\\miniconda3\\lib\\site-packages (from -r requirements.txt (line 4)) (0.0.5)\n",
      "Collecting tqdm==4.31.1\n",
      "  Using cached tqdm-4.31.1-py2.py3-none-any.whl (48 kB)\n",
      "Requirement already satisfied: nltk==3.4.5 in c:\\users\\zjamz\\miniconda3\\lib\\site-packages (from -r requirements.txt (line 8)) (3.4.5)\n",
      "Collecting Flask==1.1.1\n",
      "  Using cached Flask-1.1.1-py2.py3-none-any.whl (94 kB)\n",
      "Collecting Flask-Cors==3.0.8\n",
      "  Using cached Flask_Cors-3.0.8-py2.py3-none-any.whl (14 kB)\n",
      "Requirement already satisfied: sentencepiece in c:\\users\\zjamz\\miniconda3\\lib\\site-packages (from pytorch-transformers==1.2.0->-r requirements.txt (line 1)) (0.1.96)\n",
      "Requirement already satisfied: numpy in c:\\users\\zjamz\\miniconda3\\lib\\site-packages (from pytorch-transformers==1.2.0->-r requirements.txt (line 1)) (1.21.2)\n",
      "Requirement already satisfied: boto3 in c:\\users\\zjamz\\miniconda3\\lib\\site-packages (from pytorch-transformers==1.2.0->-r requirements.txt (line 1)) (1.20.17)\n",
      "Requirement already satisfied: requests in c:\\users\\zjamz\\miniconda3\\lib\\site-packages (from pytorch-transformers==1.2.0->-r requirements.txt (line 1)) (2.24.0)\n",
      "Requirement already satisfied: regex in c:\\users\\zjamz\\miniconda3\\lib\\site-packages (from pytorch-transformers==1.2.0->-r requirements.txt (line 1)) (2021.11.10)\n",
      "Requirement already satisfied: sacremoses in c:\\users\\zjamz\\miniconda3\\lib\\site-packages (from pytorch-transformers==1.2.0->-r requirements.txt (line 1)) (0.0.46)\n",
      "Requirement already satisfied: typing_extensions in c:\\users\\zjamz\\miniconda3\\lib\\site-packages (from torch==1.10.0->-r requirements.txt (line 2)) (3.10.0.2)\n",
      "Requirement already satisfied: six in c:\\users\\zjamz\\miniconda3\\lib\\site-packages (from nltk==3.4.5->-r requirements.txt (line 8)) (1.15.0)\n",
      "Requirement already satisfied: Werkzeug>=0.15 in c:\\users\\zjamz\\miniconda3\\lib\\site-packages (from Flask==1.1.1->-r requirements.txt (line 10)) (2.0.2)\n",
      "Requirement already satisfied: Jinja2>=2.10.1 in c:\\users\\zjamz\\miniconda3\\lib\\site-packages (from Flask==1.1.1->-r requirements.txt (line 10)) (3.0.3)\n",
      "Requirement already satisfied: itsdangerous>=0.24 in c:\\users\\zjamz\\miniconda3\\lib\\site-packages (from Flask==1.1.1->-r requirements.txt (line 10)) (2.0.1)\n",
      "Requirement already satisfied: click>=5.1 in c:\\users\\zjamz\\miniconda3\\lib\\site-packages (from Flask==1.1.1->-r requirements.txt (line 10)) (8.0.3)\n",
      "Requirement already satisfied: colorama in c:\\users\\zjamz\\miniconda3\\lib\\site-packages (from click>=5.1->Flask==1.1.1->-r requirements.txt (line 10)) (0.4.4)\n",
      "Requirement already satisfied: MarkupSafe>=2.0 in c:\\users\\zjamz\\miniconda3\\lib\\site-packages (from Jinja2>=2.10.1->Flask==1.1.1->-r requirements.txt (line 10)) (2.0.1)\n",
      "Requirement already satisfied: botocore<1.24.0,>=1.23.17 in c:\\users\\zjamz\\miniconda3\\lib\\site-packages (from boto3->pytorch-transformers==1.2.0->-r requirements.txt (line 1)) (1.23.17)\n",
      "Requirement already satisfied: s3transfer<0.6.0,>=0.5.0 in c:\\users\\zjamz\\miniconda3\\lib\\site-packages (from boto3->pytorch-transformers==1.2.0->-r requirements.txt (line 1)) (0.5.0)\n",
      "Requirement already satisfied: jmespath<1.0.0,>=0.7.1 in c:\\users\\zjamz\\miniconda3\\lib\\site-packages (from boto3->pytorch-transformers==1.2.0->-r requirements.txt (line 1)) (0.10.0)\n",
      "Requirement already satisfied: urllib3!=1.25.0,!=1.25.1,<1.26,>=1.21.1 in c:\\users\\zjamz\\miniconda3\\lib\\site-packages (from requests->pytorch-transformers==1.2.0->-r requirements.txt (line 1)) (1.25.11)\n",
      "Requirement already satisfied: certifi>=2017.4.17 in c:\\users\\zjamz\\miniconda3\\lib\\site-packages (from requests->pytorch-transformers==1.2.0->-r requirements.txt (line 1)) (2021.10.8)\n",
      "Requirement already satisfied: chardet<4,>=3.0.2 in c:\\users\\zjamz\\miniconda3\\lib\\site-packages (from requests->pytorch-transformers==1.2.0->-r requirements.txt (line 1)) (3.0.4)\n",
      "Requirement already satisfied: idna<3,>=2.5 in c:\\users\\zjamz\\miniconda3\\lib\\site-packages (from requests->pytorch-transformers==1.2.0->-r requirements.txt (line 1)) (2.10)\n",
      "Requirement already satisfied: joblib in c:\\users\\zjamz\\miniconda3\\lib\\site-packages (from sacremoses->pytorch-transformers==1.2.0->-r requirements.txt (line 1)) (1.0.1)\n",
      "Requirement already satisfied: python-dateutil<3.0.0,>=2.1 in c:\\users\\zjamz\\miniconda3\\lib\\site-packages (from botocore<1.24.0,>=1.23.17->boto3->pytorch-transformers==1.2.0->-r requirements.txt (line 1)) (2.8.1)\n",
      "Installing collected packages: tqdm, Flask, Flask-Cors\n",
      "  Attempting uninstall: tqdm\n",
      "    Found existing installation: tqdm 4.62.3\n",
      "    Uninstalling tqdm-4.62.3:\n",
      "      Successfully uninstalled tqdm-4.62.3\n",
      "  Attempting uninstall: Flask\n",
      "    Found existing installation: Flask 2.0.2\n",
      "    Uninstalling Flask-2.0.2:\n",
      "      Successfully uninstalled Flask-2.0.2\n",
      "  Attempting uninstall: Flask-Cors\n",
      "    Found existing installation: Flask-Cors 3.0.10\n",
      "    Uninstalling Flask-Cors-3.0.10:\n",
      "      Successfully uninstalled Flask-Cors-3.0.10\n",
      "Successfully installed Flask-1.1.1 Flask-Cors-3.0.8 tqdm-4.31.1\n"
     ]
    }
   ],
   "source": [
    "!pip install -r requirements.txt"
   ]
  },
  {
   "cell_type": "markdown",
   "metadata": {
    "id": "fSFO4QJnc6c_"
   },
   "source": [
    "Run Script"
   ]
  },
  {
   "cell_type": "markdown",
   "metadata": {
    "id": "NYO5uYpqc6bo"
   },
   "source": []
  },
  {
   "cell_type": "code",
   "execution_count": 6,
   "metadata": {
    "colab": {
     "base_uri": "https://localhost:8080/"
    },
    "executionInfo": {
     "elapsed": 6053788,
     "status": "ok",
     "timestamp": 1642522392370,
     "user": {
      "displayName": "Jamie Hunter",
      "photoUrl": "https://lh3.googleusercontent.com/a-/AOh14GhtWm-KRmoAJA-X2SOkUTbA5_9szh13Rb2TETcg8A=s64",
      "userId": "16124883934682782261"
     },
     "user_tz": 0
    },
    "id": "OY72x16PbDAk",
    "outputId": "62bc022f-87e7-467c-9ce7-e4f3e9dc87bc"
   },
   "outputs": [
    {
     "name": "stdout",
     "output_type": "stream",
     "text": [
      "{'O': 1, 'B-MISC': 2, 'I-MISC': 3, 'B-PER': 4, 'I-PER': 5, 'B-ORG': 6, 'I-ORG': 7, 'B-LOC': 8, 'I-LOC': 9, '[CLS]': 10, '[SEP]': 11}\n"
     ]
    },
    {
     "name": "stderr",
     "output_type": "stream",
     "text": [
      "01/24/2022 13:03:48 - INFO - __main__ -   device: cpu n_gpu: 0, distributed training: False, 16-bits training: False\n",
      "01/24/2022 13:03:48 - INFO - pytorch_transformers.tokenization_utils -   loading file https://s3.amazonaws.com/models.huggingface.co/bert/bert-base-cased-vocab.txt from cache at C:\\Users\\zJamz\\.cache\\torch\\pytorch_transformers\\5e8a2b4893d13790ed4150ca1906be5f7a03d6c4ddf62296c383f6db42814db2.e13dbb970cb325137104fb2e5f36fe865f27746c6b526f6352861b1980eb80b1\n",
      "01/24/2022 13:03:49 - INFO - pytorch_transformers.modeling_utils -   loading configuration file https://s3.amazonaws.com/models.huggingface.co/bert/bert-base-cased-config.json from cache at C:\\Users\\zJamz\\.cache\\torch\\pytorch_transformers\\b945b69218e98b3e2c95acf911789741307dec43c698d35fad11c1ae28bda352.9da767be51e1327499df13488672789394e2ca38b877837e52618a67d7002391\n",
      "01/24/2022 13:03:49 - INFO - pytorch_transformers.modeling_utils -   Model config {\n",
      "  \"architectures\": [\n",
      "    \"BertForMaskedLM\"\n",
      "  ],\n",
      "  \"attention_probs_dropout_prob\": 0.1,\n",
      "  \"finetuning_task\": \"ner\",\n",
      "  \"hidden_act\": \"gelu\",\n",
      "  \"hidden_dropout_prob\": 0.1,\n",
      "  \"hidden_size\": 768,\n",
      "  \"initializer_range\": 0.02,\n",
      "  \"intermediate_size\": 3072,\n",
      "  \"layer_norm_eps\": 1e-12,\n",
      "  \"max_position_embeddings\": 512,\n",
      "  \"model_type\": \"bert\",\n",
      "  \"num_attention_heads\": 12,\n",
      "  \"num_hidden_layers\": 12,\n",
      "  \"num_labels\": 12,\n",
      "  \"output_attentions\": false,\n",
      "  \"output_hidden_states\": false,\n",
      "  \"pad_token_id\": 0,\n",
      "  \"pruned_heads\": {},\n",
      "  \"torchscript\": false,\n",
      "  \"type_vocab_size\": 2,\n",
      "  \"vocab_size\": 28996\n",
      "}\n",
      "\n",
      "01/24/2022 13:03:49 - INFO - pytorch_transformers.modeling_utils -   loading weights file https://s3.amazonaws.com/models.huggingface.co/bert/bert-base-cased-pytorch_model.bin from cache at C:\\Users\\zJamz\\.cache\\torch\\pytorch_transformers\\35d8b9d36faaf46728a0192d82bf7d00137490cd6074e8500778afed552a67e5.3fadbea36527ae472139fe84cddaa65454d7429f12d543d80bfc3ad70de55ac2\n",
      "01/24/2022 13:03:52 - INFO - pytorch_transformers.modeling_utils -   Weights of Ner not initialized from pretrained model: ['classifier.weight', 'classifier.bias']\n",
      "01/24/2022 13:03:52 - INFO - pytorch_transformers.modeling_utils -   Weights from pretrained model not used in Ner: ['cls.predictions.bias', 'cls.predictions.transform.dense.weight', 'cls.predictions.transform.dense.bias', 'cls.predictions.decoder.weight', 'cls.seq_relationship.weight', 'cls.seq_relationship.bias', 'cls.predictions.transform.LayerNorm.weight', 'cls.predictions.transform.LayerNorm.bias']\n",
      "01/24/2022 13:03:52 - INFO - __main__ -   *** Example ***\n",
      "01/24/2022 13:03:52 - INFO - __main__ -   guid: train-0\n",
      "01/24/2022 13:03:52 - INFO - __main__ -   tokens: EU rejects German call to boycott British la ##mb . [SEP] P ##ER OR ##G L ##OC\n",
      "01/24/2022 13:03:52 - INFO - __main__ -   input_ids: 101 7270 22961 1528 1840 1106 21423 1418 2495 12913 119 102 153 9637 23066 2349 149 9244 102 0 0 0 0 0 0 0 0 0 0 0 0 0 0 0 0 0 0 0 0 0 0 0 0 0 0 0 0 0 0 0 0 0 0 0 0 0 0 0 0 0 0 0 0 0 0 0 0 0 0 0 0 0 0 0 0 0 0 0 0 0 0 0 0 0 0 0 0 0 0 0 0 0 0 0 0 0 0 0 0 0 0 0 0 0 0 0 0 0 0 0 0 0 0 0 0 0 0 0 0 0 0 0 0 0 0 0 0 0 0 0 0 0 0 0 0 0 0 0 0\n",
      "01/24/2022 13:03:52 - INFO - __main__ -   input_mask: 1 1 1 1 1 1 1 1 1 1 1 1 1 1 1 1 1 1 1 0 0 0 0 0 0 0 0 0 0 0 0 0 0 0 0 0 0 0 0 0 0 0 0 0 0 0 0 0 0 0 0 0 0 0 0 0 0 0 0 0 0 0 0 0 0 0 0 0 0 0 0 0 0 0 0 0 0 0 0 0 0 0 0 0 0 0 0 0 0 0 0 0 0 0 0 0 0 0 0 0 0 0 0 0 0 0 0 0 0 0 0 0 0 0 0 0 0 0 0 0 0 0 0 0 0 0 0 0 0 0 0 0 0 0 0 0 0 0 0\n",
      "01/24/2022 13:03:52 - INFO - __main__ -   segment_ids: 0 0 0 0 0 0 0 0 0 0 0 0 0 0 0 0 0 0 0 0 0 0 0 0 0 0 0 0 0 0 0 0 0 0 0 0 0 0 0 0 0 0 0 0 0 0 0 0 0 0 0 0 0 0 0 0 0 0 0 0 0 0 0 0 0 0 0 0 0 0 0 0 0 0 0 0 0 0 0 0 0 0 0 0 0 0 0 0 0 0 0 0 0 0 0 0 0 0 0 0 0 0 0 0 0 0 0 0 0 0 0 0 0 0 0 0 0 0 0 0 0 0 0 0 0 0 0 0 0 0 0 0 0 0 0 0 0 0 0\n",
      "01/24/2022 13:03:52 - INFO - __main__ -   *** Example ***\n",
      "01/24/2022 13:03:52 - INFO - __main__ -   guid: train-1\n",
      "01/24/2022 13:03:52 - INFO - __main__ -   tokens: Peter Blackburn [SEP] P ##ER OR ##G L ##OC\n",
      "01/24/2022 13:03:52 - INFO - __main__ -   input_ids: 101 1943 14428 102 153 9637 23066 2349 149 9244 102 0 0 0 0 0 0 0 0 0 0 0 0 0 0 0 0 0 0 0 0 0 0 0 0 0 0 0 0 0 0 0 0 0 0 0 0 0 0 0 0 0 0 0 0 0 0 0 0 0 0 0 0 0 0 0 0 0 0 0 0 0 0 0 0 0 0 0 0 0 0 0 0 0 0 0 0 0 0 0 0 0 0 0 0 0 0 0 0 0 0 0 0 0 0 0 0 0 0 0 0 0 0 0 0 0 0 0 0 0 0 0 0 0 0 0 0 0 0 0 0 0 0 0 0 0 0 0 0\n",
      "01/24/2022 13:03:52 - INFO - __main__ -   input_mask: 1 1 1 1 1 1 1 1 1 1 1 0 0 0 0 0 0 0 0 0 0 0 0 0 0 0 0 0 0 0 0 0 0 0 0 0 0 0 0 0 0 0 0 0 0 0 0 0 0 0 0 0 0 0 0 0 0 0 0 0 0 0 0 0 0 0 0 0 0 0 0 0 0 0 0 0 0 0 0 0 0 0 0 0 0 0 0 0 0 0 0 0 0 0 0 0 0 0 0 0 0 0 0 0 0 0 0 0 0 0 0 0 0 0 0 0 0 0 0 0 0 0 0 0 0 0 0 0 0 0 0 0 0 0 0 0 0 0 0\n",
      "01/24/2022 13:03:52 - INFO - __main__ -   segment_ids: 0 0 0 0 0 0 0 0 0 0 0 0 0 0 0 0 0 0 0 0 0 0 0 0 0 0 0 0 0 0 0 0 0 0 0 0 0 0 0 0 0 0 0 0 0 0 0 0 0 0 0 0 0 0 0 0 0 0 0 0 0 0 0 0 0 0 0 0 0 0 0 0 0 0 0 0 0 0 0 0 0 0 0 0 0 0 0 0 0 0 0 0 0 0 0 0 0 0 0 0 0 0 0 0 0 0 0 0 0 0 0 0 0 0 0 0 0 0 0 0 0 0 0 0 0 0 0 0 0 0 0 0 0 0 0 0 0 0 0\n",
      "01/24/2022 13:03:52 - INFO - __main__ -   *** Example ***\n",
      "01/24/2022 13:03:52 - INFO - __main__ -   guid: train-2\n",
      "01/24/2022 13:03:52 - INFO - __main__ -   tokens: BR ##US ##SE ##LS 1996 - 08 - 22 [SEP] P ##ER OR ##G L ##OC\n",
      "01/24/2022 13:03:52 - INFO - __main__ -   input_ids: 101 26660 13329 12649 15928 1820 118 4775 118 1659 102 153 9637 23066 2349 149 9244 102 0 0 0 0 0 0 0 0 0 0 0 0 0 0 0 0 0 0 0 0 0 0 0 0 0 0 0 0 0 0 0 0 0 0 0 0 0 0 0 0 0 0 0 0 0 0 0 0 0 0 0 0 0 0 0 0 0 0 0 0 0 0 0 0 0 0 0 0 0 0 0 0 0 0 0 0 0 0 0 0 0 0 0 0 0 0 0 0 0 0 0 0 0 0 0 0 0 0 0 0 0 0 0 0 0 0 0 0 0 0 0 0 0 0 0 0 0 0 0 0 0\n",
      "01/24/2022 13:03:52 - INFO - __main__ -   input_mask: 1 1 1 1 1 1 1 1 1 1 1 1 1 1 1 1 1 1 0 0 0 0 0 0 0 0 0 0 0 0 0 0 0 0 0 0 0 0 0 0 0 0 0 0 0 0 0 0 0 0 0 0 0 0 0 0 0 0 0 0 0 0 0 0 0 0 0 0 0 0 0 0 0 0 0 0 0 0 0 0 0 0 0 0 0 0 0 0 0 0 0 0 0 0 0 0 0 0 0 0 0 0 0 0 0 0 0 0 0 0 0 0 0 0 0 0 0 0 0 0 0 0 0 0 0 0 0 0 0 0 0 0 0 0 0 0 0 0 0\n",
      "01/24/2022 13:03:52 - INFO - __main__ -   segment_ids: 0 0 0 0 0 0 0 0 0 0 0 0 0 0 0 0 0 0 0 0 0 0 0 0 0 0 0 0 0 0 0 0 0 0 0 0 0 0 0 0 0 0 0 0 0 0 0 0 0 0 0 0 0 0 0 0 0 0 0 0 0 0 0 0 0 0 0 0 0 0 0 0 0 0 0 0 0 0 0 0 0 0 0 0 0 0 0 0 0 0 0 0 0 0 0 0 0 0 0 0 0 0 0 0 0 0 0 0 0 0 0 0 0 0 0 0 0 0 0 0 0 0 0 0 0 0 0 0 0 0 0 0 0 0 0 0 0 0 0\n",
      "01/24/2022 13:03:52 - INFO - __main__ -   *** Example ***\n",
      "01/24/2022 13:03:52 - INFO - __main__ -   guid: train-3\n",
      "01/24/2022 13:03:52 - INFO - __main__ -   tokens: The European Commission said on Thursday it disagreed with German advice to consumers to s ##hun British la ##mb until scientists determine whether mad cow disease can be transmitted to sheep . [SEP] P ##ER OR ##G L ##OC\n",
      "01/24/2022 13:03:52 - INFO - __main__ -   input_ids: 101 1109 1735 2827 1163 1113 9170 1122 19786 1114 1528 5566 1106 11060 1106 188 17315 1418 2495 12913 1235 6479 4959 2480 6340 13991 3653 1169 1129 12086 1106 8892 119 102 153 9637 23066 2349 149 9244 102 0 0 0 0 0 0 0 0 0 0 0 0 0 0 0 0 0 0 0 0 0 0 0 0 0 0 0 0 0 0 0 0 0 0 0 0 0 0 0 0 0 0 0 0 0 0 0 0 0 0 0 0 0 0 0 0 0 0 0 0 0 0 0 0 0 0 0 0 0 0 0 0 0 0 0 0 0 0 0 0 0 0 0 0 0 0 0 0 0 0 0 0 0 0 0 0 0 0\n",
      "01/24/2022 13:03:52 - INFO - __main__ -   input_mask: 1 1 1 1 1 1 1 1 1 1 1 1 1 1 1 1 1 1 1 1 1 1 1 1 1 1 1 1 1 1 1 1 1 1 1 1 1 1 1 1 1 0 0 0 0 0 0 0 0 0 0 0 0 0 0 0 0 0 0 0 0 0 0 0 0 0 0 0 0 0 0 0 0 0 0 0 0 0 0 0 0 0 0 0 0 0 0 0 0 0 0 0 0 0 0 0 0 0 0 0 0 0 0 0 0 0 0 0 0 0 0 0 0 0 0 0 0 0 0 0 0 0 0 0 0 0 0 0 0 0 0 0 0 0 0 0 0 0 0\n",
      "01/24/2022 13:03:52 - INFO - __main__ -   segment_ids: 0 0 0 0 0 0 0 0 0 0 0 0 0 0 0 0 0 0 0 0 0 0 0 0 0 0 0 0 0 0 0 0 0 0 0 0 0 0 0 0 0 0 0 0 0 0 0 0 0 0 0 0 0 0 0 0 0 0 0 0 0 0 0 0 0 0 0 0 0 0 0 0 0 0 0 0 0 0 0 0 0 0 0 0 0 0 0 0 0 0 0 0 0 0 0 0 0 0 0 0 0 0 0 0 0 0 0 0 0 0 0 0 0 0 0 0 0 0 0 0 0 0 0 0 0 0 0 0 0 0 0 0 0 0 0 0 0 0 0\n",
      "01/24/2022 13:03:52 - INFO - __main__ -   *** Example ***\n",
      "01/24/2022 13:03:52 - INFO - __main__ -   guid: train-4\n",
      "01/24/2022 13:03:52 - INFO - __main__ -   tokens: Germany ' s representative to the European Union ' s veterinary committee Werner Z ##wing ##mann said on Wednesday consumers should buy sheep ##me ##at from countries other than Britain until the scientific advice was clearer . [SEP] P ##ER OR ##G L ##OC\n",
      "01/24/2022 13:03:52 - INFO - __main__ -   input_ids: 101 1860 112 188 4702 1106 1103 1735 1913 112 188 27431 3914 14651 163 7635 4119 1163 1113 9031 11060 1431 4417 8892 3263 2980 1121 2182 1168 1190 2855 1235 1103 3812 5566 1108 27830 119 102 153 9637 23066 2349 149 9244 102 0 0 0 0 0 0 0 0 0 0 0 0 0 0 0 0 0 0 0 0 0 0 0 0 0 0 0 0 0 0 0 0 0 0 0 0 0 0 0 0 0 0 0 0 0 0 0 0 0 0 0 0 0 0 0 0 0 0 0 0 0 0 0 0 0 0 0 0 0 0 0 0 0 0 0 0 0 0 0 0 0 0 0 0 0 0 0 0 0 0 0 0 0\n",
      "01/24/2022 13:03:52 - INFO - __main__ -   input_mask: 1 1 1 1 1 1 1 1 1 1 1 1 1 1 1 1 1 1 1 1 1 1 1 1 1 1 1 1 1 1 1 1 1 1 1 1 1 1 1 1 1 1 1 1 1 1 0 0 0 0 0 0 0 0 0 0 0 0 0 0 0 0 0 0 0 0 0 0 0 0 0 0 0 0 0 0 0 0 0 0 0 0 0 0 0 0 0 0 0 0 0 0 0 0 0 0 0 0 0 0 0 0 0 0 0 0 0 0 0 0 0 0 0 0 0 0 0 0 0 0 0 0 0 0 0 0 0 0 0 0 0 0 0 0 0 0 0 0 0\n",
      "01/24/2022 13:03:52 - INFO - __main__ -   segment_ids: 0 0 0 0 0 0 0 0 0 0 0 0 0 0 0 0 0 0 0 0 0 0 0 0 0 0 0 0 0 0 0 0 0 0 0 0 0 0 0 0 0 0 0 0 0 0 0 0 0 0 0 0 0 0 0 0 0 0 0 0 0 0 0 0 0 0 0 0 0 0 0 0 0 0 0 0 0 0 0 0 0 0 0 0 0 0 0 0 0 0 0 0 0 0 0 0 0 0 0 0 0 0 0 0 0 0 0 0 0 0 0 0 0 0 0 0 0 0 0 0 0 0 0 0 0 0 0 0 0 0 0 0 0 0 0 0 0 0 0\n",
      "01/24/2022 13:04:11 - INFO - __main__ -   ***** Running training *****\n",
      "01/24/2022 13:04:11 - INFO - __main__ -     Num examples = 14041\n",
      "01/24/2022 13:04:11 - INFO - __main__ -     Batch size = 32\n",
      "01/24/2022 13:04:11 - INFO - __main__ -     Num steps = 2190\n",
      "\n",
      "Epoch:   0%|          | 0/5 [00:00<?, ?it/s]\n",
      "\n",
      "Iteration:   0%|          | 0/439 [00:00<?, ?it/s]Traceback (most recent call last):\n",
      "  File \"run_ner.py\", line 627, in <module>\n",
      "    main()\n",
      "  File \"run_ner.py\", line 522, in main\n",
      "    loss = model(input_ids, segment_ids, input_mask, label_ids,valid_ids,l_mask)\n",
      "  File \"C:\\Users\\zJamz\\miniconda3\\lib\\site-packages\\torch\\nn\\modules\\module.py\", line 1102, in _call_impl\n",
      "    return forward_call(*input, **kwargs)\n",
      "  File \"run_ner.py\", line 36, in forward\n",
      "    valid_output = torch.zeros(batch_size,max_len,feat_dim,dtype=torch.float32,device='cuda')\n",
      "  File \"C:\\Users\\zJamz\\miniconda3\\lib\\site-packages\\torch\\cuda\\__init__.py\", line 208, in _lazy_init\n",
      "    raise AssertionError(\"Torch not compiled with CUDA enabled\")\n",
      "AssertionError: Torch not compiled with CUDA enabled\n",
      "\n",
      "\n"
     ]
    }
   ],
   "source": [
    "!python run_ner.py --data_dir=data/ --bert_model=bert-base-cased --task_name=ner --output_dir=out_base --max_seq_length=139 --do_train --num_train_epochs 5 --do_eval --warmup_proportion=0.1"
   ]
  },
  {
   "cell_type": "markdown",
   "metadata": {
    "id": "iY9rH8lNdQZi"
   },
   "source": [
    "# New section"
   ]
  }
 ],
 "metadata": {
  "accelerator": "GPU",
  "colab": {
   "authorship_tag": "ABX9TyP3ocEozzLtB+/VhKpEPdkh",
   "collapsed_sections": [],
   "mount_file_id": "1NAlihBLoFAwzNVrZP2AOitvRHZ_VI-7P",
   "name": "run_ner_script.ipynb",
   "provenance": []
  },
  "kernelspec": {
   "display_name": "Python 3",
   "language": "python",
   "name": "python3"
  },
  "language_info": {
   "codemirror_mode": {
    "name": "ipython",
    "version": 3
   },
   "file_extension": ".py",
   "mimetype": "text/x-python",
   "name": "python",
   "nbconvert_exporter": "python",
   "pygments_lexer": "ipython3",
   "version": "3.8.5"
  }
 },
 "nbformat": 4,
 "nbformat_minor": 1
}
