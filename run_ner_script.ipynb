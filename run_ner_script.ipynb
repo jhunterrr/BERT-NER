{
  "nbformat": 4,
  "nbformat_minor": 0,
  "metadata": {
    "colab": {
      "name": "run_ner_script.ipynb",
      "provenance": [],
      "collapsed_sections": [],
      "mount_file_id": "https://github.com/jhunterrr/BERT-NER/blob/zero-shot-dev/run_ner_script.ipynb",
      "authorship_tag": "ABX9TyP5zJTfwCRhdr6JCuQ4xAe/"
    },
    "kernelspec": {
      "name": "python3",
      "display_name": "Python 3"
    },
    "language_info": {
      "name": "python"
    },
    "accelerator": "GPU"
  },
  "cells": [
    {
      "cell_type": "markdown",
      "source": [
        "Run Script for ZSL NER Project"
      ],
      "metadata": {
        "id": "1mKPWZV2a-tz"
      }
    },
    {
      "cell_type": "markdown",
      "source": [
        "Clone Repo"
      ],
      "metadata": {
        "id": "Gf-9pqgmIvul"
      }
    },
    {
      "cell_type": "code",
      "source": [
        "!rm -rf BERT-NER\n",
        "!git clone -b zero-shot-dev https://github.com/jhunterrr/BERT-NER.git"
      ],
      "metadata": {
        "id": "Piq9ZIRIIvR0",
        "outputId": "7309d266-004c-4618-d6b9-29a3ad75238a",
        "colab": {
          "base_uri": "https://localhost:8080/"
        }
      },
      "execution_count": 36,
      "outputs": [
        {
          "output_type": "stream",
          "name": "stdout",
          "text": [
            "Cloning into 'BERT-NER'...\n",
            "remote: Enumerating objects: 997, done.\u001b[K\n",
            "remote: Counting objects: 100% (137/137), done.\u001b[K\n",
            "remote: Compressing objects: 100% (97/97), done.\u001b[K\n",
            "remote: Total 997 (delta 97), reused 40 (delta 40), pack-reused 860\u001b[K\n",
            "Receiving objects: 100% (997/997), 1.88 MiB | 21.91 MiB/s, done.\n",
            "Resolving deltas: 100% (612/612), done.\n"
          ]
        }
      ]
    },
    {
      "cell_type": "markdown",
      "source": [
        "Install requirements"
      ],
      "metadata": {
        "id": "7D-t_XeqcxjL"
      }
    },
    {
      "cell_type": "code",
      "source": [
        "!pip install -r BERT-NER/requirements.txt"
      ],
      "metadata": {
        "id": "guh8SzwwcwsO"
      },
      "execution_count": null,
      "outputs": []
    },
    {
      "cell_type": "markdown",
      "source": [
        "Run Script to obtain new method model"
      ],
      "metadata": {
        "id": "fSFO4QJnc6c_"
      }
    },
    {
      "cell_type": "code",
      "source": [
        "!python BERT-NER/run_ner.py --data_dir=BERT-NER/data/ --bert_model=bert-base-cased --task_name=ner --output_dir=out_base_simp_shuffled_misc --max_seq_length=128 --do_train --num_train_epochs 5 --do_eval --warmup_proportion=0.1"
      ],
      "metadata": {
        "id": "OY72x16PbDAk"
      },
      "execution_count": null,
      "outputs": []
    },
    {
      "cell_type": "markdown",
      "source": [
        "Download created model"
      ],
      "metadata": {
        "id": "BrTKmKw8vk-B"
      }
    },
    {
      "cell_type": "code",
      "source": [
        "!zip -r /content/model_shuffled_misc.zip /content/out_base_simp_shuffled_misc/\n",
        "\n",
        "from google.colab import files\n",
        "files.download(\"/content/model_shuffled_misc.zip\")"
      ],
      "metadata": {
        "id": "_ws9fy9_vlNX"
      },
      "execution_count": null,
      "outputs": []
    },
    {
      "cell_type": "markdown",
      "source": [
        "Run to complete evaluation of a new method and original method model"
      ],
      "metadata": {
        "id": "AycImgt1sa5M"
      }
    },
    {
      "cell_type": "code",
      "source": [
        "import nltk\n",
        "nltk.download('punkt')\n",
        "\n",
        "!python BERT-NER/evaluate_model.py --model_dir_new=\"/content/drive/MyDrive/Colab Notebooks/BERT-NER/out_base_simp_shuffled_misc\" --model_dir_orig=\"/content/drive/MyDrive/Colab Notebooks/BERT-NER/out_base\""
      ],
      "metadata": {
        "id": "FOA9obYw4pJK",
        "outputId": "c3670682-ebe6-4370-b15d-1bce04f992ed",
        "colab": {
          "base_uri": "https://localhost:8080/"
        }
      },
      "execution_count": 37,
      "outputs": [
        {
          "output_type": "stream",
          "name": "stderr",
          "text": [
            "[nltk_data] Downloading package punkt to /root/nltk_data...\n",
            "[nltk_data]   Package punkt is already up-to-date!\n"
          ]
        },
        {
          "output_type": "stream",
          "name": "stdout",
          "text": [
            "Group 1: Persons\n",
            "Expected: Final classification for person label below\n",
            "[{'word': 'person', 'tag': 'location', 'confidence': 0.22971823811531067}]\n",
            "Actual Results:\n",
            "[{'word': 'Steve', 'tag': 'location', 'confidence': 0.24608886241912842}, {'word': 'John', 'tag': 'person', 'confidence': 0.22997400164604187}, {'word': 'James', 'tag': 'location', 'confidence': 0.2320733517408371}, {'word': 'Daniel', 'tag': 'location', 'confidence': 0.23815517127513885}, {'word': 'Zendaya', 'tag': 'organisation', 'confidence': 0.25387945771217346}, {'word': 'Robert', 'tag': 'location', 'confidence': 0.23754769563674927}, {'word': 'Pattinson', 'tag': 'location', 'confidence': 0.27531036734580994}]\n",
            "Group 2: Organisations\n",
            "Expected: Final classification for person label below\n",
            "[{'word': 'organisation', 'tag': 'organisation', 'confidence': 0.2719440460205078}]\n",
            "Actual Results:\n",
            "[{'word': 'Starbucks', 'tag': 'miscellaneous', 'confidence': 0.29953575134277344}, {'word': 'Microsoft', 'tag': 'miscellaneous', 'confidence': 0.24393144249916077}, {'word': 'AMD', 'tag': 'miscellaneous', 'confidence': 0.33293795585632324}, {'word': 'Intel', 'tag': 'miscellaneous', 'confidence': 0.2856416702270508}, {'word': 'Target', 'tag': 'miscellaneous', 'confidence': 0.30105531215667725}, {'word': 'Kellogs', 'tag': 'organisation', 'confidence': 0.24524828791618347}, {'word': 'Walmart', 'tag': 'miscellaneous', 'confidence': 0.2642578184604645}, {'word': 'Disney', 'tag': 'organisation', 'confidence': 0.23555684089660645}]\n",
            "Group 3: Locations\n",
            "Expected: Final classification for person label below\n",
            "[{'word': 'location', 'tag': 'organisation', 'confidence': 0.24888549745082855}]\n",
            "Actual Results:\n",
            "[{'word': 'Berlin', 'tag': 'miscellaneous', 'confidence': 0.28540489077568054}, {'word': 'New', 'tag': 'miscellaneous', 'confidence': 0.36419832706451416}, {'word': 'York', 'tag': 'miscellaneous', 'confidence': 0.3628847897052765}, {'word': 'Munich', 'tag': 'miscellaneous', 'confidence': 0.32468557357788086}, {'word': 'Belfast', 'tag': 'miscellaneous', 'confidence': 0.33017459511756897}, {'word': 'Dublin', 'tag': 'miscellaneous', 'confidence': 0.32629749178886414}, {'word': 'England', 'tag': 'miscellaneous', 'confidence': 0.28072670102119446}, {'word': 'America', 'tag': 'organisation', 'confidence': 0.2564305067062378}]\n",
            "EVALUATION: OUR BERT METHOD\n",
            "Accuracy: 0.21841218179704755\n",
            "Recall: 0.2741864876696337\n",
            "Precision: 0.05478134110787172\n",
            "F1 score: 0.09131776541199914\n",
            "EVALUATION: ORIGINAL BERT METHOD\n",
            "Accuracy: 0.9588515634081134\n",
            "Recall: 0.9595207630568803\n",
            "Precision: 0.23988019076422007\n",
            "F1 score: 0.3838083052227521\n"
          ]
        }
      ]
    },
    {
      "cell_type": "markdown",
      "source": [
        "Run to complete testing of the model"
      ],
      "metadata": {
        "id": "bmVes-cnshwG"
      }
    },
    {
      "cell_type": "code",
      "source": [
        "!python BERT-NER/testing/test_bert.py"
      ],
      "metadata": {
        "id": "oZGsD2-Ssj89"
      },
      "execution_count": null,
      "outputs": []
    }
  ]
}