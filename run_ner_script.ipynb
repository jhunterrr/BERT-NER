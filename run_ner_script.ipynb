{
  "nbformat": 4,
  "nbformat_minor": 0,
  "metadata": {
    "colab": {
      "name": "run_ner_script.ipynb",
      "provenance": [],
      "collapsed_sections": [],
      "mount_file_id": "1NAlihBLoFAwzNVrZP2AOitvRHZ_VI-7P",
      "authorship_tag": "ABX9TyNZc6NNxDYa2PVEurBl1Jve"
    },
    "kernelspec": {
      "name": "python3",
      "display_name": "Python 3"
    },
    "language_info": {
      "name": "python"
    },
    "accelerator": "GPU"
  },
  "cells": [
    {
      "cell_type": "markdown",
      "source": [
        "Run Script for ZSL NER Project"
      ],
      "metadata": {
        "id": "1mKPWZV2a-tz"
      }
    },
    {
      "cell_type": "markdown",
      "source": [
        "Clone Repo"
      ],
      "metadata": {
        "id": "Gf-9pqgmIvul"
      }
    },
    {
      "cell_type": "code",
      "source": [
        "!rm -rf BERT-NER\n",
        "!git clone -b zero-shot-dev https://github.com/jhunterrr/BERT-NER.git"
      ],
      "metadata": {
        "id": "Piq9ZIRIIvR0",
        "outputId": "7f9378c3-177a-4b3e-e225-b931de5c5c25",
        "colab": {
          "base_uri": "https://localhost:8080/"
        }
      },
      "execution_count": 24,
      "outputs": [
        {
          "output_type": "stream",
          "name": "stdout",
          "text": [
            "Cloning into 'BERT-NER'...\n",
            "remote: Enumerating objects: 655, done.\u001b[K\n",
            "remote: Counting objects: 100% (407/407), done.\u001b[K\n",
            "remote: Compressing objects: 100% (391/391), done.\u001b[K\n",
            "remote: Total 655 (delta 258), reused 38 (delta 15), pack-reused 248\u001b[K\n",
            "Receiving objects: 100% (655/655), 1.79 MiB | 9.75 MiB/s, done.\n",
            "Resolving deltas: 100% (383/383), done.\n"
          ]
        }
      ]
    },
    {
      "cell_type": "markdown",
      "source": [
        "Install requirements"
      ],
      "metadata": {
        "id": "7D-t_XeqcxjL"
      }
    },
    {
      "cell_type": "code",
      "source": [
        "!pip install -r BERT-NER/requirements.txt"
      ],
      "metadata": {
        "id": "guh8SzwwcwsO",
        "outputId": "186cb8ba-3ba5-470a-ccce-4f2b73ac2847",
        "colab": {
          "base_uri": "https://localhost:8080/"
        }
      },
      "execution_count": 2,
      "outputs": [
        {
          "output_type": "stream",
          "name": "stdout",
          "text": [
            "Collecting pytorch-transformers==1.2.0\n",
            "  Downloading pytorch_transformers-1.2.0-py3-none-any.whl (176 kB)\n",
            "\u001b[?25l\r\u001b[K     |█▉                              | 10 kB 25.1 MB/s eta 0:00:01\r\u001b[K     |███▊                            | 20 kB 21.1 MB/s eta 0:00:01\r\u001b[K     |█████▋                          | 30 kB 11.6 MB/s eta 0:00:01\r\u001b[K     |███████▍                        | 40 kB 11.7 MB/s eta 0:00:01\r\u001b[K     |█████████▎                      | 51 kB 7.9 MB/s eta 0:00:01\r\u001b[K     |███████████▏                    | 61 kB 9.3 MB/s eta 0:00:01\r\u001b[K     |█████████████                   | 71 kB 9.9 MB/s eta 0:00:01\r\u001b[K     |██████████████▉                 | 81 kB 10.9 MB/s eta 0:00:01\r\u001b[K     |████████████████▊               | 92 kB 10.2 MB/s eta 0:00:01\r\u001b[K     |██████████████████▋             | 102 kB 9.2 MB/s eta 0:00:01\r\u001b[K     |████████████████████▍           | 112 kB 9.2 MB/s eta 0:00:01\r\u001b[K     |██████████████████████▎         | 122 kB 9.2 MB/s eta 0:00:01\r\u001b[K     |████████████████████████▏       | 133 kB 9.2 MB/s eta 0:00:01\r\u001b[K     |██████████████████████████      | 143 kB 9.2 MB/s eta 0:00:01\r\u001b[K     |███████████████████████████▉    | 153 kB 9.2 MB/s eta 0:00:01\r\u001b[K     |█████████████████████████████▊  | 163 kB 9.2 MB/s eta 0:00:01\r\u001b[K     |███████████████████████████████▋| 174 kB 9.2 MB/s eta 0:00:01\r\u001b[K     |████████████████████████████████| 176 kB 9.2 MB/s \n",
            "\u001b[?25hRequirement already satisfied: torch==1.10.0 in /usr/local/lib/python3.7/dist-packages (from -r BERT-NER/requirements.txt (line 2)) (1.10.0+cu111)\n",
            "Collecting seqeval==0.0.5\n",
            "  Downloading seqeval-0.0.5-py3-none-any.whl (6.6 kB)\n",
            "Collecting tqdm==4.31.1\n",
            "  Downloading tqdm-4.31.1-py2.py3-none-any.whl (48 kB)\n",
            "\u001b[K     |████████████████████████████████| 48 kB 5.8 MB/s \n",
            "\u001b[?25hCollecting nltk==3.4.5\n",
            "  Downloading nltk-3.4.5.zip (1.5 MB)\n",
            "\u001b[K     |████████████████████████████████| 1.5 MB 58.1 MB/s \n",
            "\u001b[?25hCollecting Flask==1.1.1\n",
            "  Downloading Flask-1.1.1-py2.py3-none-any.whl (94 kB)\n",
            "\u001b[K     |████████████████████████████████| 94 kB 3.6 MB/s \n",
            "\u001b[?25hCollecting Flask-Cors==3.0.8\n",
            "  Downloading Flask_Cors-3.0.8-py2.py3-none-any.whl (14 kB)\n",
            "Collecting sacremoses\n",
            "  Downloading sacremoses-0.0.47-py2.py3-none-any.whl (895 kB)\n",
            "\u001b[K     |████████████████████████████████| 895 kB 58.8 MB/s \n",
            "\u001b[?25hCollecting sentencepiece\n",
            "  Downloading sentencepiece-0.1.96-cp37-cp37m-manylinux_2_17_x86_64.manylinux2014_x86_64.whl (1.2 MB)\n",
            "\u001b[K     |████████████████████████████████| 1.2 MB 51.3 MB/s \n",
            "\u001b[?25hRequirement already satisfied: requests in /usr/local/lib/python3.7/dist-packages (from pytorch-transformers==1.2.0->-r BERT-NER/requirements.txt (line 1)) (2.23.0)\n",
            "Collecting boto3\n",
            "  Downloading boto3-1.21.19-py3-none-any.whl (132 kB)\n",
            "\u001b[K     |████████████████████████████████| 132 kB 13.4 MB/s \n",
            "\u001b[?25hRequirement already satisfied: regex in /usr/local/lib/python3.7/dist-packages (from pytorch-transformers==1.2.0->-r BERT-NER/requirements.txt (line 1)) (2019.12.20)\n",
            "Requirement already satisfied: numpy in /usr/local/lib/python3.7/dist-packages (from pytorch-transformers==1.2.0->-r BERT-NER/requirements.txt (line 1)) (1.21.5)\n",
            "Requirement already satisfied: typing-extensions in /usr/local/lib/python3.7/dist-packages (from torch==1.10.0->-r BERT-NER/requirements.txt (line 2)) (3.10.0.2)\n",
            "Requirement already satisfied: six in /usr/local/lib/python3.7/dist-packages (from nltk==3.4.5->-r BERT-NER/requirements.txt (line 8)) (1.15.0)\n",
            "Requirement already satisfied: click>=5.1 in /usr/local/lib/python3.7/dist-packages (from Flask==1.1.1->-r BERT-NER/requirements.txt (line 10)) (7.1.2)\n",
            "Requirement already satisfied: Jinja2>=2.10.1 in /usr/local/lib/python3.7/dist-packages (from Flask==1.1.1->-r BERT-NER/requirements.txt (line 10)) (2.11.3)\n",
            "Requirement already satisfied: itsdangerous>=0.24 in /usr/local/lib/python3.7/dist-packages (from Flask==1.1.1->-r BERT-NER/requirements.txt (line 10)) (1.1.0)\n",
            "Requirement already satisfied: Werkzeug>=0.15 in /usr/local/lib/python3.7/dist-packages (from Flask==1.1.1->-r BERT-NER/requirements.txt (line 10)) (1.0.1)\n",
            "Requirement already satisfied: MarkupSafe>=0.23 in /usr/local/lib/python3.7/dist-packages (from Jinja2>=2.10.1->Flask==1.1.1->-r BERT-NER/requirements.txt (line 10)) (2.0.1)\n",
            "Collecting s3transfer<0.6.0,>=0.5.0\n",
            "  Downloading s3transfer-0.5.2-py3-none-any.whl (79 kB)\n",
            "\u001b[K     |████████████████████████████████| 79 kB 9.4 MB/s \n",
            "\u001b[?25hCollecting jmespath<1.0.0,>=0.7.1\n",
            "  Downloading jmespath-0.10.0-py2.py3-none-any.whl (24 kB)\n",
            "Collecting botocore<1.25.0,>=1.24.19\n",
            "  Downloading botocore-1.24.19-py3-none-any.whl (8.6 MB)\n",
            "\u001b[K     |████████████████████████████████| 8.6 MB 53.4 MB/s \n",
            "\u001b[?25hCollecting urllib3<1.27,>=1.25.4\n",
            "  Downloading urllib3-1.26.8-py2.py3-none-any.whl (138 kB)\n",
            "\u001b[K     |████████████████████████████████| 138 kB 75.7 MB/s \n",
            "\u001b[?25hRequirement already satisfied: python-dateutil<3.0.0,>=2.1 in /usr/local/lib/python3.7/dist-packages (from botocore<1.25.0,>=1.24.19->boto3->pytorch-transformers==1.2.0->-r BERT-NER/requirements.txt (line 1)) (2.8.2)\n",
            "Requirement already satisfied: chardet<4,>=3.0.2 in /usr/local/lib/python3.7/dist-packages (from requests->pytorch-transformers==1.2.0->-r BERT-NER/requirements.txt (line 1)) (3.0.4)\n",
            "Requirement already satisfied: idna<3,>=2.5 in /usr/local/lib/python3.7/dist-packages (from requests->pytorch-transformers==1.2.0->-r BERT-NER/requirements.txt (line 1)) (2.10)\n",
            "Requirement already satisfied: certifi>=2017.4.17 in /usr/local/lib/python3.7/dist-packages (from requests->pytorch-transformers==1.2.0->-r BERT-NER/requirements.txt (line 1)) (2021.10.8)\n",
            "  Downloading urllib3-1.25.11-py2.py3-none-any.whl (127 kB)\n",
            "\u001b[K     |████████████████████████████████| 127 kB 75.4 MB/s \n",
            "\u001b[?25hRequirement already satisfied: joblib in /usr/local/lib/python3.7/dist-packages (from sacremoses->pytorch-transformers==1.2.0->-r BERT-NER/requirements.txt (line 1)) (1.1.0)\n",
            "Building wheels for collected packages: nltk\n",
            "  Building wheel for nltk (setup.py) ... \u001b[?25l\u001b[?25hdone\n",
            "  Created wheel for nltk: filename=nltk-3.4.5-py3-none-any.whl size=1449924 sha256=99c17650a9a0b7de7a781440f74279881bbbeb820bf51f9d233ec24956c305f3\n",
            "  Stored in directory: /root/.cache/pip/wheels/48/8b/7f/473521e0c731c6566d631b281f323842bbda9bd819eb9a3ead\n",
            "Successfully built nltk\n",
            "Installing collected packages: urllib3, jmespath, botocore, tqdm, s3transfer, sentencepiece, sacremoses, Flask, boto3, seqeval, pytorch-transformers, nltk, Flask-Cors\n",
            "  Attempting uninstall: urllib3\n",
            "    Found existing installation: urllib3 1.24.3\n",
            "    Uninstalling urllib3-1.24.3:\n",
            "      Successfully uninstalled urllib3-1.24.3\n",
            "  Attempting uninstall: tqdm\n",
            "    Found existing installation: tqdm 4.63.0\n",
            "    Uninstalling tqdm-4.63.0:\n",
            "      Successfully uninstalled tqdm-4.63.0\n",
            "  Attempting uninstall: Flask\n",
            "    Found existing installation: Flask 1.1.4\n",
            "    Uninstalling Flask-1.1.4:\n",
            "      Successfully uninstalled Flask-1.1.4\n",
            "  Attempting uninstall: nltk\n",
            "    Found existing installation: nltk 3.2.5\n",
            "    Uninstalling nltk-3.2.5:\n",
            "      Successfully uninstalled nltk-3.2.5\n",
            "\u001b[31mERROR: pip's dependency resolver does not currently take into account all the packages that are installed. This behaviour is the source of the following dependency conflicts.\n",
            "spacy 2.2.4 requires tqdm<5.0.0,>=4.38.0, but you have tqdm 4.31.1 which is incompatible.\n",
            "panel 0.12.1 requires tqdm>=4.48.0, but you have tqdm 4.31.1 which is incompatible.\n",
            "fbprophet 0.7.1 requires tqdm>=4.36.1, but you have tqdm 4.31.1 which is incompatible.\n",
            "datascience 0.10.6 requires folium==0.2.1, but you have folium 0.8.3 which is incompatible.\u001b[0m\n",
            "Successfully installed Flask-1.1.1 Flask-Cors-3.0.8 boto3-1.21.19 botocore-1.24.19 jmespath-0.10.0 nltk-3.4.5 pytorch-transformers-1.2.0 s3transfer-0.5.2 sacremoses-0.0.47 sentencepiece-0.1.96 seqeval-0.0.5 tqdm-4.31.1 urllib3-1.25.11\n"
          ]
        }
      ]
    },
    {
      "cell_type": "markdown",
      "source": [
        "Run Script"
      ],
      "metadata": {
        "id": "fSFO4QJnc6c_"
      }
    },
    {
      "cell_type": "code",
      "source": [
        "!python BERT-NER/run_ner.py --data_dir=BERT-NER/data/ --bert_model=bert-base-cased --task_name=ner --output_dir=out_base_simp_shuffled --max_seq_length=128 --do_train --num_train_epochs 5 --do_eval --warmup_proportion=0.1"
      ],
      "metadata": {
        "id": "OY72x16PbDAk",
        "outputId": "bf941fe9-9747-4020-ddac-d3c7d2435087",
        "colab": {
          "base_uri": "https://localhost:8080/"
        }
      },
      "execution_count": 11,
      "outputs": [
        {
          "output_type": "stream",
          "name": "stdout",
          "text": [
            "Traceback (most recent call last):\n",
            "  File \"<frozen importlib._bootstrap>\", line 677, in _load_unlocked\n",
            "  File \"<frozen importlib._bootstrap_external>\", line 728, in exec_module\n",
            "  File \"<frozen importlib._bootstrap>\", line 219, in _call_with_frames_removed\n",
            "  File \"/usr/local/lib/python3.7/dist-packages/sacremoses/tokenize.py\", line 540, in <module>\n",
            "    class MosesDetokenizer(object):\n",
            "  File \"/usr/local/lib/python3.7/dist-packages/sacremoses/tokenize.py\", line 549, in MosesDetokenizer\n",
            "    IsAlpha = text_type(\"\".join(perluniprops.chars(\"IsAlpha\")))\n",
            "  File \"/usr/local/lib/python3.7/dist-packages/sacremoses/corpus.py\", line 64, in chars\n",
            "    for ch in binary_data.decode(\"utf-8\"):\n",
            "KeyboardInterrupt\n",
            "\n",
            "During handling of the above exception, another exception occurred:\n",
            "\n",
            "Traceback (most recent call last):\n",
            "  File \"BERT-NER/run_ner.py\", line 15, in <module>\n",
            "    from pytorch_transformers import (WEIGHTS_NAME, AdamW, BertConfig,\n",
            "  File \"/usr/local/lib/python3.7/dist-packages/pytorch_transformers/__init__.py\", line 2, in <module>\n",
            "    from .tokenization_auto import AutoTokenizer\n",
            "  File \"/usr/local/lib/python3.7/dist-packages/pytorch_transformers/tokenization_auto.py\", line 26, in <module>\n",
            "    from .tokenization_xlm import XLMTokenizer\n",
            "  File \"/usr/local/lib/python3.7/dist-packages/pytorch_transformers/tokenization_xlm.py\", line 27, in <module>\n",
            "    import sacremoses as sm\n",
            "  File \"/usr/local/lib/python3.7/dist-packages/sacremoses/__init__.py\", line 2, in <module>\n",
            "    from sacremoses.tokenize import *\n",
            "  File \"<frozen importlib._bootstrap>\", line 983, in _find_and_load\n",
            "  File \"<frozen importlib._bootstrap>\", line 967, in _find_and_load_unlocked\n",
            "  File \"<frozen importlib._bootstrap>\", line 677, in _load_unlocked\n",
            "KeyboardInterrupt\n"
          ]
        }
      ]
    },
    {
      "cell_type": "code",
      "source": [
        "import nltk\n",
        "nltk.download('punkt')\n",
        "\n",
        "!python BERT-NER/test.py"
      ],
      "metadata": {
        "id": "FOA9obYw4pJK",
        "outputId": "2871782b-cdaf-498d-f20e-52031c739685",
        "colab": {
          "base_uri": "https://localhost:8080/"
        }
      },
      "execution_count": 25,
      "outputs": [
        {
          "output_type": "stream",
          "name": "stderr",
          "text": [
            "[nltk_data] Downloading package punkt to /root/nltk_data...\n",
            "[nltk_data]   Package punkt is already up-to-date!\n"
          ]
        },
        {
          "output_type": "stream",
          "name": "stdout",
          "text": [
            "Group 1: Persons\n",
            "Expected: Final classification for person label below\n",
            "[{'word': 'person', 'tag': 'location', 'confidence': 0.23842297494411469}]\n",
            "Actual Results:\n",
            "[{'word': 'Steve', 'tag': 'O', 'confidence': 0.23649144172668457}, {'word': 'John', 'tag': 'location', 'confidence': 0.21882611513137817}, {'word': 'James', 'tag': 'location', 'confidence': 0.23161397874355316}, {'word': 'Daniel', 'tag': 'organisation', 'confidence': 0.23195692896842957}, {'word': 'Zendaya', 'tag': 'O', 'confidence': 0.24406829476356506}, {'word': 'Robert', 'tag': 'location', 'confidence': 0.22436872124671936}, {'word': 'Pattinson', 'tag': 'O', 'confidence': 0.26808613538742065}]\n",
            "Group 2: Organisations\n",
            "Expected: Final classification for person label below\n",
            "[{'word': 'organisation', 'tag': 'organisation', 'confidence': 0.22706471383571625}]\n",
            "Actual Results:\n",
            "[{'word': 'Starbucks', 'tag': 'miscellaneous', 'confidence': 0.29115208983421326}, {'word': 'Microsoft', 'tag': 'O', 'confidence': 0.276132196187973}, {'word': 'AMD', 'tag': 'miscellaneous', 'confidence': 0.35206663608551025}, {'word': 'Intel', 'tag': 'miscellaneous', 'confidence': 0.2854361832141876}, {'word': 'Target', 'tag': 'miscellaneous', 'confidence': 0.3115358352661133}, {'word': 'Kellogs', 'tag': 'organisation', 'confidence': 0.2710939347743988}, {'word': 'Walmart', 'tag': 'organisation', 'confidence': 0.25976473093032837}, {'word': 'Disney', 'tag': 'organisation', 'confidence': 0.2629855275154114}]\n",
            "Group 3: Locations\n",
            "Expected: Final classification for person label below\n",
            "[{'word': 'Locations', 'tag': 'organisation', 'confidence': 0.27336186170578003}]\n",
            "Actual Results:\n",
            "[{'word': 'Berlin', 'tag': 'miscellaneous', 'confidence': 0.24588832259178162}, {'word': 'New', 'tag': 'miscellaneous', 'confidence': 0.3035057783126831}, {'word': 'York', 'tag': 'miscellaneous', 'confidence': 0.29662802815437317}, {'word': 'Munich', 'tag': 'miscellaneous', 'confidence': 0.2821897864341736}, {'word': 'Belfast', 'tag': 'miscellaneous', 'confidence': 0.2969270348548889}, {'word': 'Dublin', 'tag': 'miscellaneous', 'confidence': 0.27859756350517273}, {'word': 'England', 'tag': 'miscellaneous', 'confidence': 0.24531683325767517}, {'word': 'America', 'tag': 'organisation', 'confidence': 0.22745530307292938}]\n",
            "Group 4: ZER Test\n",
            "Steve goes to the shop in Belfast, Apple [SEP] person location organisation\n",
            "12\n",
            "tensor([[[3.7270e-05, 6.9694e-06, 5.7500e-05,  ..., 4.1410e-06,\n",
            "          9.9968e-01, 3.3251e-05],\n",
            "         [6.1570e-04, 1.5274e-01, 7.2887e-04,  ..., 2.1627e-01,\n",
            "          7.7796e-04, 1.3164e-03],\n",
            "         [1.2780e-04, 5.7765e-02, 1.0189e-04,  ..., 2.4971e-01,\n",
            "          1.1930e-04, 1.9907e-04],\n",
            "         ...,\n",
            "         [8.3243e-02, 8.3554e-02, 8.3221e-02,  ..., 8.3574e-02,\n",
            "          8.2794e-02, 8.3131e-02],\n",
            "         [8.3243e-02, 8.3554e-02, 8.3221e-02,  ..., 8.3574e-02,\n",
            "          8.2794e-02, 8.3131e-02],\n",
            "         [8.3243e-02, 8.3554e-02, 8.3221e-02,  ..., 8.3574e-02,\n",
            "          8.2794e-02, 8.3131e-02]]], device='cuda:0')\n",
            "[10, 7, 7, 7, 7, 7, 7, 3, 3, 9, 9, 3, 9, 9, 9, 9, 11, 3, 3, 3, 3, 3, 3, 3, 3, 3, 3, 3, 3, 3, 3, 3, 3, 3, 3, 3, 3, 3, 3, 3, 3, 3, 3, 3, 3, 3, 3, 3, 3, 3, 3, 3, 3, 3, 3, 3, 3, 3, 3, 3, 3, 3, 3, 3, 3, 3, 3, 3, 3, 3, 3, 3, 3, 3, 3, 3, 3, 3, 3, 3, 3, 3, 3, 3, 3, 3, 3, 3, 3, 3, 3, 3, 3, 3, 3, 3, 3, 3, 3, 3, 3, 3, 3, 3, 3, 3, 3, 3, 3, 3, 3, 3, 3, 3, 3, 3, 3, 3, 3, 3, 3, 3, 3, 3, 3, 3, 3, 3]\n",
            "sep pos: 10\n",
            "|------------------------------------------------------|\n",
            "| Model groups these words to be common with: person |\n",
            "|------------------------------------------------------|\n",
            "Apple\n",
            "|------------------------------------------------------|\n",
            "|------------------------------------------------------|\n",
            "| Model groups these words to be common with: location |\n",
            "|------------------------------------------------------|\n",
            "Apple\n",
            "|------------------------------------------------------|\n",
            "|------------------------------------------------------|\n",
            "| Model groups these words to be common with: organisation |\n",
            "|------------------------------------------------------|\n",
            "Apple\n",
            "|------------------------------------------------------|\n",
            "[{'word': 'Steve', 'tag': 'organisation', 'confidence': 0.22723868489265442}, {'word': 'goes', 'tag': 'miscellaneous', 'confidence': 0.31265392899513245}, {'word': 'to', 'tag': 'miscellaneous', 'confidence': 0.3323119878768921}, {'word': 'the', 'tag': 'miscellaneous', 'confidence': 0.34697413444519043}, {'word': 'shop', 'tag': 'miscellaneous', 'confidence': 0.2826780080795288}, {'word': 'in', 'tag': 'miscellaneous', 'confidence': 0.3227635324001312}, {'word': 'Belfast', 'tag': 'miscellaneous', 'confidence': 0.2784792482852936}, {'word': ',', 'tag': 'miscellaneous', 'confidence': 0.41234835982322693}, {'word': 'Apple', 'tag': 'miscellaneous', 'confidence': 0.2494601011276245}, {'word': ',', 'tag': 'miscellaneous', 'confidence': 0.35501721501350403}, {'word': '[', 'tag': 'miscellaneous', 'confidence': 0.3338075578212738}, {'word': 'SEP', 'tag': 'miscellaneous', 'confidence': 0.2471056431531906}, {'word': ']', 'tag': 'miscellaneous', 'confidence': 0.313699334859848}, {'word': 'person', 'tag': 'miscellaneous', 'confidence': 0.278709352016449}, {'word': 'location', 'tag': 'miscellaneous', 'confidence': 0.2709120213985443}, {'word': 'organisation', 'tag': 'miscellaneous', 'confidence': 0.2760387659072876}]\n"
          ]
        }
      ]
    }
  ]
}