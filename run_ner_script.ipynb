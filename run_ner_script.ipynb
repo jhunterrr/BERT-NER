{
  "nbformat": 4,
  "nbformat_minor": 0,
  "metadata": {
    "colab": {
      "name": "run_ner_script.ipynb",
      "provenance": [],
      "collapsed_sections": [],
      "mount_file_id": "1NAlihBLoFAwzNVrZP2AOitvRHZ_VI-7P",
      "authorship_tag": "ABX9TyPdEdGJXAlnLBolsGDmX/nB",
      "include_colab_link": true
    },
    "kernelspec": {
      "name": "python3",
      "display_name": "Python 3"
    },
    "language_info": {
      "name": "python"
    },
    "accelerator": "GPU"
  },
  "cells": [
    {
      "cell_type": "markdown",
      "metadata": {
        "id": "view-in-github",
        "colab_type": "text"
      },
      "source": [
        "<a href=\"https://colab.research.google.com/github/jhunterrr/BERT-NER/blob/zero-shot-dev/run_ner_script.ipynb\" target=\"_parent\"><img src=\"https://colab.research.google.com/assets/colab-badge.svg\" alt=\"Open In Colab\"/></a>"
      ]
    },
    {
      "cell_type": "markdown",
      "source": [
        "Run Script for ZSL NER Project"
      ],
      "metadata": {
        "id": "1mKPWZV2a-tz"
      }
    },
    {
      "cell_type": "markdown",
      "source": [
        "Clone Repo"
      ],
      "metadata": {
        "id": "Gf-9pqgmIvul"
      }
    },
    {
      "cell_type": "code",
      "source": [
        "!git clone https://github.com/jhunterrr/BERT-NER.git"
      ],
      "metadata": {
        "id": "Piq9ZIRIIvR0",
        "outputId": "c1272187-0642-4463-b8c8-363979f81d99",
        "colab": {
          "base_uri": "https://localhost:8080/"
        }
      },
      "execution_count": 6,
      "outputs": [
        {
          "output_type": "stream",
          "name": "stdout",
          "text": [
            "fatal: destination path 'BERT-NER' already exists and is not an empty directory.\n",
            "BERT-NER  sample_data\n"
          ]
        }
      ]
    },
    {
      "cell_type": "markdown",
      "source": [
        "Install requirements"
      ],
      "metadata": {
        "id": "7D-t_XeqcxjL"
      }
    },
    {
      "cell_type": "code",
      "source": [
        "!pip install -r BERT-NER/requirements.txt"
      ],
      "metadata": {
        "colab": {
          "base_uri": "https://localhost:8080/"
        },
        "id": "guh8SzwwcwsO",
        "outputId": "4ed5d648-a4bc-4849-d29d-ec99a465fed8"
      },
      "execution_count": 7,
      "outputs": [
        {
          "output_type": "stream",
          "name": "stdout",
          "text": [
            "Collecting pytorch-transformers==1.2.0\n",
            "  Downloading pytorch_transformers-1.2.0-py3-none-any.whl (176 kB)\n",
            "\u001b[?25l\r\u001b[K     |█▉                              | 10 kB 20.1 MB/s eta 0:00:01\r\u001b[K     |███▊                            | 20 kB 22.4 MB/s eta 0:00:01\r\u001b[K     |█████▋                          | 30 kB 22.4 MB/s eta 0:00:01\r\u001b[K     |███████▍                        | 40 kB 18.5 MB/s eta 0:00:01\r\u001b[K     |█████████▎                      | 51 kB 14.5 MB/s eta 0:00:01\r\u001b[K     |███████████▏                    | 61 kB 14.0 MB/s eta 0:00:01\r\u001b[K     |█████████████                   | 71 kB 12.3 MB/s eta 0:00:01\r\u001b[K     |██████████████▉                 | 81 kB 13.2 MB/s eta 0:00:01\r\u001b[K     |████████████████▊               | 92 kB 14.0 MB/s eta 0:00:01\r\u001b[K     |██████████████████▋             | 102 kB 12.4 MB/s eta 0:00:01\r\u001b[K     |████████████████████▍           | 112 kB 12.4 MB/s eta 0:00:01\r\u001b[K     |██████████████████████▎         | 122 kB 12.4 MB/s eta 0:00:01\r\u001b[K     |████████████████████████▏       | 133 kB 12.4 MB/s eta 0:00:01\r\u001b[K     |██████████████████████████      | 143 kB 12.4 MB/s eta 0:00:01\r\u001b[K     |███████████████████████████▉    | 153 kB 12.4 MB/s eta 0:00:01\r\u001b[K     |█████████████████████████████▊  | 163 kB 12.4 MB/s eta 0:00:01\r\u001b[K     |███████████████████████████████▋| 174 kB 12.4 MB/s eta 0:00:01\r\u001b[K     |████████████████████████████████| 176 kB 12.4 MB/s \n",
            "\u001b[?25hRequirement already satisfied: torch==1.10.0 in /usr/local/lib/python3.7/dist-packages (from -r BERT-NER/requirements.txt (line 2)) (1.10.0+cu111)\n",
            "Collecting seqeval==0.0.5\n",
            "  Downloading seqeval-0.0.5-py3-none-any.whl (6.6 kB)\n",
            "Collecting tqdm==4.31.1\n",
            "  Downloading tqdm-4.31.1-py2.py3-none-any.whl (48 kB)\n",
            "\u001b[K     |████████████████████████████████| 48 kB 5.1 MB/s \n",
            "\u001b[?25hCollecting nltk==3.4.5\n",
            "  Downloading nltk-3.4.5.zip (1.5 MB)\n",
            "\u001b[K     |████████████████████████████████| 1.5 MB 51.9 MB/s \n",
            "\u001b[?25hCollecting Flask==1.1.1\n",
            "  Downloading Flask-1.1.1-py2.py3-none-any.whl (94 kB)\n",
            "\u001b[K     |████████████████████████████████| 94 kB 3.3 MB/s \n",
            "\u001b[?25hCollecting Flask-Cors==3.0.8\n",
            "  Downloading Flask_Cors-3.0.8-py2.py3-none-any.whl (14 kB)\n",
            "Requirement already satisfied: requests in /usr/local/lib/python3.7/dist-packages (from pytorch-transformers==1.2.0->-r BERT-NER/requirements.txt (line 1)) (2.23.0)\n",
            "Requirement already satisfied: regex in /usr/local/lib/python3.7/dist-packages (from pytorch-transformers==1.2.0->-r BERT-NER/requirements.txt (line 1)) (2019.12.20)\n",
            "Collecting sacremoses\n",
            "  Downloading sacremoses-0.0.47-py2.py3-none-any.whl (895 kB)\n",
            "\u001b[K     |████████████████████████████████| 895 kB 50.8 MB/s \n",
            "\u001b[?25hCollecting boto3\n",
            "  Downloading boto3-1.20.43-py3-none-any.whl (131 kB)\n",
            "\u001b[K     |████████████████████████████████| 131 kB 35.1 MB/s \n",
            "\u001b[?25hCollecting sentencepiece\n",
            "  Downloading sentencepiece-0.1.96-cp37-cp37m-manylinux_2_17_x86_64.manylinux2014_x86_64.whl (1.2 MB)\n",
            "\u001b[K     |████████████████████████████████| 1.2 MB 43.0 MB/s \n",
            "\u001b[?25hRequirement already satisfied: numpy in /usr/local/lib/python3.7/dist-packages (from pytorch-transformers==1.2.0->-r BERT-NER/requirements.txt (line 1)) (1.19.5)\n",
            "Requirement already satisfied: typing-extensions in /usr/local/lib/python3.7/dist-packages (from torch==1.10.0->-r BERT-NER/requirements.txt (line 2)) (3.10.0.2)\n",
            "Requirement already satisfied: six in /usr/local/lib/python3.7/dist-packages (from nltk==3.4.5->-r BERT-NER/requirements.txt (line 8)) (1.15.0)\n",
            "Requirement already satisfied: itsdangerous>=0.24 in /usr/local/lib/python3.7/dist-packages (from Flask==1.1.1->-r BERT-NER/requirements.txt (line 10)) (1.1.0)\n",
            "Requirement already satisfied: click>=5.1 in /usr/local/lib/python3.7/dist-packages (from Flask==1.1.1->-r BERT-NER/requirements.txt (line 10)) (7.1.2)\n",
            "Requirement already satisfied: Jinja2>=2.10.1 in /usr/local/lib/python3.7/dist-packages (from Flask==1.1.1->-r BERT-NER/requirements.txt (line 10)) (2.11.3)\n",
            "Requirement already satisfied: Werkzeug>=0.15 in /usr/local/lib/python3.7/dist-packages (from Flask==1.1.1->-r BERT-NER/requirements.txt (line 10)) (1.0.1)\n",
            "Requirement already satisfied: MarkupSafe>=0.23 in /usr/local/lib/python3.7/dist-packages (from Jinja2>=2.10.1->Flask==1.1.1->-r BERT-NER/requirements.txt (line 10)) (2.0.1)\n",
            "Collecting s3transfer<0.6.0,>=0.5.0\n",
            "  Downloading s3transfer-0.5.0-py3-none-any.whl (79 kB)\n",
            "\u001b[K     |████████████████████████████████| 79 kB 7.6 MB/s \n",
            "\u001b[?25hCollecting botocore<1.24.0,>=1.23.43\n",
            "  Downloading botocore-1.23.43-py3-none-any.whl (8.5 MB)\n",
            "\u001b[K     |████████████████████████████████| 8.5 MB 43.8 MB/s \n",
            "\u001b[?25hCollecting jmespath<1.0.0,>=0.7.1\n",
            "  Downloading jmespath-0.10.0-py2.py3-none-any.whl (24 kB)\n",
            "Collecting urllib3<1.27,>=1.25.4\n",
            "  Downloading urllib3-1.26.8-py2.py3-none-any.whl (138 kB)\n",
            "\u001b[K     |████████████████████████████████| 138 kB 40.6 MB/s \n",
            "\u001b[?25hRequirement already satisfied: python-dateutil<3.0.0,>=2.1 in /usr/local/lib/python3.7/dist-packages (from botocore<1.24.0,>=1.23.43->boto3->pytorch-transformers==1.2.0->-r BERT-NER/requirements.txt (line 1)) (2.8.2)\n",
            "Requirement already satisfied: idna<3,>=2.5 in /usr/local/lib/python3.7/dist-packages (from requests->pytorch-transformers==1.2.0->-r BERT-NER/requirements.txt (line 1)) (2.10)\n",
            "Requirement already satisfied: certifi>=2017.4.17 in /usr/local/lib/python3.7/dist-packages (from requests->pytorch-transformers==1.2.0->-r BERT-NER/requirements.txt (line 1)) (2021.10.8)\n",
            "Requirement already satisfied: chardet<4,>=3.0.2 in /usr/local/lib/python3.7/dist-packages (from requests->pytorch-transformers==1.2.0->-r BERT-NER/requirements.txt (line 1)) (3.0.4)\n",
            "  Downloading urllib3-1.25.11-py2.py3-none-any.whl (127 kB)\n",
            "\u001b[K     |████████████████████████████████| 127 kB 51.1 MB/s \n",
            "\u001b[?25hRequirement already satisfied: joblib in /usr/local/lib/python3.7/dist-packages (from sacremoses->pytorch-transformers==1.2.0->-r BERT-NER/requirements.txt (line 1)) (1.1.0)\n",
            "Building wheels for collected packages: nltk\n",
            "  Building wheel for nltk (setup.py) ... \u001b[?25l\u001b[?25hdone\n",
            "  Created wheel for nltk: filename=nltk-3.4.5-py3-none-any.whl size=1449922 sha256=2af8b2f0aa0907b8a0b968dbdfca329ae5ab2d6d4f27936326c4e7a08a81be7a\n",
            "  Stored in directory: /root/.cache/pip/wheels/48/8b/7f/473521e0c731c6566d631b281f323842bbda9bd819eb9a3ead\n",
            "Successfully built nltk\n",
            "Installing collected packages: urllib3, jmespath, botocore, tqdm, s3transfer, sentencepiece, sacremoses, Flask, boto3, seqeval, pytorch-transformers, nltk, Flask-Cors\n",
            "  Attempting uninstall: urllib3\n",
            "    Found existing installation: urllib3 1.24.3\n",
            "    Uninstalling urllib3-1.24.3:\n",
            "      Successfully uninstalled urllib3-1.24.3\n",
            "  Attempting uninstall: tqdm\n",
            "    Found existing installation: tqdm 4.62.3\n",
            "    Uninstalling tqdm-4.62.3:\n",
            "      Successfully uninstalled tqdm-4.62.3\n",
            "  Attempting uninstall: Flask\n",
            "    Found existing installation: Flask 1.1.4\n",
            "    Uninstalling Flask-1.1.4:\n",
            "      Successfully uninstalled Flask-1.1.4\n",
            "  Attempting uninstall: nltk\n",
            "    Found existing installation: nltk 3.2.5\n",
            "    Uninstalling nltk-3.2.5:\n",
            "      Successfully uninstalled nltk-3.2.5\n",
            "\u001b[31mERROR: pip's dependency resolver does not currently take into account all the packages that are installed. This behaviour is the source of the following dependency conflicts.\n",
            "spacy 2.2.4 requires tqdm<5.0.0,>=4.38.0, but you have tqdm 4.31.1 which is incompatible.\n",
            "panel 0.12.1 requires tqdm>=4.48.0, but you have tqdm 4.31.1 which is incompatible.\n",
            "fbprophet 0.7.1 requires tqdm>=4.36.1, but you have tqdm 4.31.1 which is incompatible.\n",
            "datascience 0.10.6 requires folium==0.2.1, but you have folium 0.8.3 which is incompatible.\u001b[0m\n",
            "Successfully installed Flask-1.1.1 Flask-Cors-3.0.8 boto3-1.20.43 botocore-1.23.43 jmespath-0.10.0 nltk-3.4.5 pytorch-transformers-1.2.0 s3transfer-0.5.0 sacremoses-0.0.47 sentencepiece-0.1.96 seqeval-0.0.5 tqdm-4.31.1 urllib3-1.25.11\n"
          ]
        }
      ]
    },
    {
      "cell_type": "markdown",
      "source": [
        "Run Script"
      ],
      "metadata": {
        "id": "fSFO4QJnc6c_"
      }
    },
    {
      "cell_type": "markdown",
      "source": [
        ""
      ],
      "metadata": {
        "id": "NYO5uYpqc6bo"
      }
    },
    {
      "cell_type": "code",
      "source": [
        "!python BERT-NER/run_ner.py --data_dir=BERT-NER/data/ --bert_model=bert-base-cased --task_name=ner --output_dir=out_base --max_seq_length=128 --do_train --num_train_epochs 5 --do_eval --warmup_proportion=0.1"
      ],
      "metadata": {
        "colab": {
          "base_uri": "https://localhost:8080/"
        },
        "id": "OY72x16PbDAk",
        "outputId": "38838965-dc21-423c-ba77-13a01bc22904"
      },
      "execution_count": null,
      "outputs": [
        {
          "output_type": "stream",
          "name": "stdout",
          "text": [
            "01/26/2022 11:32:47 - INFO - __main__ -   device: cuda n_gpu: 1, distributed training: False, 16-bits training: False\n",
            "01/26/2022 11:32:47 - INFO - pytorch_transformers.file_utils -   https://s3.amazonaws.com/models.huggingface.co/bert/bert-base-cased-vocab.txt not found in cache or force_download set to True, downloading to /tmp/tmpne2urukz\n",
            "100% 213450/213450 [00:00<00:00, 874328.77B/s]\n",
            "01/26/2022 11:32:48 - INFO - pytorch_transformers.file_utils -   copying /tmp/tmpne2urukz to cache at /root/.cache/torch/pytorch_transformers/5e8a2b4893d13790ed4150ca1906be5f7a03d6c4ddf62296c383f6db42814db2.e13dbb970cb325137104fb2e5f36fe865f27746c6b526f6352861b1980eb80b1\n",
            "01/26/2022 11:32:48 - INFO - pytorch_transformers.file_utils -   creating metadata file for /root/.cache/torch/pytorch_transformers/5e8a2b4893d13790ed4150ca1906be5f7a03d6c4ddf62296c383f6db42814db2.e13dbb970cb325137104fb2e5f36fe865f27746c6b526f6352861b1980eb80b1\n",
            "01/26/2022 11:32:48 - INFO - pytorch_transformers.file_utils -   removing temp file /tmp/tmpne2urukz\n",
            "01/26/2022 11:32:48 - INFO - pytorch_transformers.tokenization_utils -   loading file https://s3.amazonaws.com/models.huggingface.co/bert/bert-base-cased-vocab.txt from cache at /root/.cache/torch/pytorch_transformers/5e8a2b4893d13790ed4150ca1906be5f7a03d6c4ddf62296c383f6db42814db2.e13dbb970cb325137104fb2e5f36fe865f27746c6b526f6352861b1980eb80b1\n",
            "01/26/2022 11:32:48 - INFO - pytorch_transformers.file_utils -   https://s3.amazonaws.com/models.huggingface.co/bert/bert-base-cased-config.json not found in cache or force_download set to True, downloading to /tmp/tmpw2_armhr\n",
            "100% 433/433 [00:00<00:00, 317062.44B/s]\n",
            "01/26/2022 11:32:49 - INFO - pytorch_transformers.file_utils -   copying /tmp/tmpw2_armhr to cache at /root/.cache/torch/pytorch_transformers/b945b69218e98b3e2c95acf911789741307dec43c698d35fad11c1ae28bda352.9da767be51e1327499df13488672789394e2ca38b877837e52618a67d7002391\n",
            "01/26/2022 11:32:49 - INFO - pytorch_transformers.file_utils -   creating metadata file for /root/.cache/torch/pytorch_transformers/b945b69218e98b3e2c95acf911789741307dec43c698d35fad11c1ae28bda352.9da767be51e1327499df13488672789394e2ca38b877837e52618a67d7002391\n",
            "01/26/2022 11:32:49 - INFO - pytorch_transformers.file_utils -   removing temp file /tmp/tmpw2_armhr\n",
            "01/26/2022 11:32:49 - INFO - pytorch_transformers.modeling_utils -   loading configuration file https://s3.amazonaws.com/models.huggingface.co/bert/bert-base-cased-config.json from cache at /root/.cache/torch/pytorch_transformers/b945b69218e98b3e2c95acf911789741307dec43c698d35fad11c1ae28bda352.9da767be51e1327499df13488672789394e2ca38b877837e52618a67d7002391\n",
            "01/26/2022 11:32:49 - INFO - pytorch_transformers.modeling_utils -   Model config {\n",
            "  \"architectures\": [\n",
            "    \"BertForMaskedLM\"\n",
            "  ],\n",
            "  \"attention_probs_dropout_prob\": 0.1,\n",
            "  \"finetuning_task\": \"ner\",\n",
            "  \"hidden_act\": \"gelu\",\n",
            "  \"hidden_dropout_prob\": 0.1,\n",
            "  \"hidden_size\": 768,\n",
            "  \"initializer_range\": 0.02,\n",
            "  \"intermediate_size\": 3072,\n",
            "  \"layer_norm_eps\": 1e-12,\n",
            "  \"max_position_embeddings\": 512,\n",
            "  \"model_type\": \"bert\",\n",
            "  \"num_attention_heads\": 12,\n",
            "  \"num_hidden_layers\": 12,\n",
            "  \"num_labels\": 12,\n",
            "  \"output_attentions\": false,\n",
            "  \"output_hidden_states\": false,\n",
            "  \"pad_token_id\": 0,\n",
            "  \"pruned_heads\": {},\n",
            "  \"torchscript\": false,\n",
            "  \"type_vocab_size\": 2,\n",
            "  \"vocab_size\": 28996\n",
            "}\n",
            "\n",
            "01/26/2022 11:32:49 - INFO - pytorch_transformers.file_utils -   https://s3.amazonaws.com/models.huggingface.co/bert/bert-base-cased-pytorch_model.bin not found in cache or force_download set to True, downloading to /tmp/tmpeqkdzi6r\n",
            "100% 435779157/435779157 [00:15<00:00, 27628942.11B/s]\n",
            "01/26/2022 11:33:05 - INFO - pytorch_transformers.file_utils -   copying /tmp/tmpeqkdzi6r to cache at /root/.cache/torch/pytorch_transformers/35d8b9d36faaf46728a0192d82bf7d00137490cd6074e8500778afed552a67e5.3fadbea36527ae472139fe84cddaa65454d7429f12d543d80bfc3ad70de55ac2\n",
            "01/26/2022 11:33:07 - INFO - pytorch_transformers.file_utils -   creating metadata file for /root/.cache/torch/pytorch_transformers/35d8b9d36faaf46728a0192d82bf7d00137490cd6074e8500778afed552a67e5.3fadbea36527ae472139fe84cddaa65454d7429f12d543d80bfc3ad70de55ac2\n",
            "01/26/2022 11:33:07 - INFO - pytorch_transformers.file_utils -   removing temp file /tmp/tmpeqkdzi6r\n",
            "01/26/2022 11:33:07 - INFO - pytorch_transformers.modeling_utils -   loading weights file https://s3.amazonaws.com/models.huggingface.co/bert/bert-base-cased-pytorch_model.bin from cache at /root/.cache/torch/pytorch_transformers/35d8b9d36faaf46728a0192d82bf7d00137490cd6074e8500778afed552a67e5.3fadbea36527ae472139fe84cddaa65454d7429f12d543d80bfc3ad70de55ac2\n"
          ]
        }
      ]
    },
    {
      "cell_type": "markdown",
      "source": [
        "# New section"
      ],
      "metadata": {
        "id": "iY9rH8lNdQZi"
      }
    }
  ]
}